{
 "cells": [
  {
   "cell_type": "markdown",
   "id": "6537d38a-b174-4025-a3d9-374243570031",
   "metadata": {},
   "source": [
    "# Complementary Filter\n",
    "\n",
    "see https://www.youtube.com/watch?v=whSw42XddsU"
   ]
  },
  {
   "cell_type": "code",
   "execution_count": 1,
   "id": "f5ed0288-bf7b-4521-ad82-f0f8e8fbc3b6",
   "metadata": {},
   "outputs": [],
   "source": [
    "import numpy as np\n",
    "from matplotlib import pyplot as plt\n",
    "\n",
    "Δt = 0.1\n",
    "num_timesteps = 1000\n",
    "\n",
    "acc = np.random.normal(0, 2.0, size=num_timesteps)\n",
    "gyro = np.random.normal(0, 0.5, size=num_timesteps) + 0.2 # random with bias of 0.2\n",
    "gyro_int = np.cumsum(gyro) * Δt"
   ]
  },
  {
   "cell_type": "code",
   "execution_count": 10,
   "id": "e8f96a3b-bae7-4f5d-aac2-651e77d5a75e",
   "metadata": {},
   "outputs": [],
   "source": [
    "estimated = np.zeros(num_timesteps)\n",
    "\n",
    "α = 0.95\n",
    "\n",
    "for i, (last_φ, φ_acc, φ_gyro) in enumerate(zip(estimated, acc[1:], gyro[1:])):\n",
    "    estimated[i+1] = φ_acc * (1-α) + (φ_gyro * Δt + last_φ) * α"
   ]
  },
  {
   "cell_type": "code",
   "execution_count": 11,
   "id": "5941adf9-e981-4db9-8c13-b5dedcf33a78",
   "metadata": {},
   "outputs": [
    {
     "data": {
      "text/plain": [
       "<matplotlib.legend.Legend at 0x7fdae0e353a0>"
      ]
     },
     "execution_count": 11,
     "metadata": {},
     "output_type": "execute_result"
    }
   ],
   "source": [
    "%matplotlib qt\n",
    "\n",
    "\n",
    "plt.plot(acc, label='acc')\n",
    "plt.plot(gyro_int, label='gyro')\n",
    "plt.plot(estimated, label='est')\n",
    "\n",
    "plt.xlabel('timestep')\n",
    "plt.ylabel('')\n",
    "\n",
    "plt.legend()"
   ]
  },
  {
   "cell_type": "code",
   "execution_count": null,
   "id": "25afb279-7109-4bbc-8689-a5e1e3859f7a",
   "metadata": {},
   "outputs": [],
   "source": []
  }
 ],
 "metadata": {
  "kernelspec": {
   "display_name": "Python 3",
   "language": "python",
   "name": "python3"
  },
  "language_info": {
   "codemirror_mode": {
    "name": "ipython",
    "version": 3
   },
   "file_extension": ".py",
   "mimetype": "text/x-python",
   "name": "python",
   "nbconvert_exporter": "python",
   "pygments_lexer": "ipython3",
   "version": "3.9.6"
  }
 },
 "nbformat": 4,
 "nbformat_minor": 5
}
