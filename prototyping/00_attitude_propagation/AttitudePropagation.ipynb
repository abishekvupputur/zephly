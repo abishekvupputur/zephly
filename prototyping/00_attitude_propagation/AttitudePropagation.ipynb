{
 "cells": [
  {
   "cell_type": "markdown",
   "id": "3c21995b-3263-4356-894f-1094b4b8c7db",
   "metadata": {},
   "source": [
    "# Attitude Propagation"
   ]
  },
  {
   "cell_type": "code",
   "execution_count": 1,
   "id": "f22d4e8b-0942-4d76-a905-55d71a7b349d",
   "metadata": {},
   "outputs": [],
   "source": [
    "import numpy as np\n",
    "import quaternionic as quat\n",
    "from matplotlib import pyplot as plt\n",
    "\n",
    "# import also cpp attitude propagation\n",
    "import sys\n",
    "sys.path.append('../app/lib/build')\n",
    "\n",
    "import pyahrs"
   ]
  },
  {
   "cell_type": "code",
   "execution_count": 2,
   "id": "0196821b-18b9-445c-8678-38a119785b20",
   "metadata": {},
   "outputs": [],
   "source": [
    "def propagate_attitude(q, ω, Δt):\n",
    "    q0 = q.to_scalar_part\n",
    "    q1, q2, q3 = q.to_vector_part\n",
    "    G = np.array([\n",
    "        [-q1, q0, q3,-q2],\n",
    "        [-q2,-q3, q0, q1],\n",
    "        [-q3, q2,-q1, q0]\n",
    "    ])\n",
    "    \n",
    "    return (q + quat.array(0.5 * G.T @ (ω * Δt))).normalized"
   ]
  },
  {
   "cell_type": "code",
   "execution_count": 3,
   "id": "68bbfb29-7430-49a1-9363-253f62364ba5",
   "metadata": {},
   "outputs": [],
   "source": [
    "data = np.loadtxt('test6.log')"
   ]
  },
  {
   "cell_type": "code",
   "execution_count": 4,
   "id": "edc98f5e-16e7-47c6-87dd-fea5bd26c0e6",
   "metadata": {},
   "outputs": [],
   "source": [
    "Q = quat.array([[1.0, 0.0, 0.0, 0.0]] * (len(data) + 1))\n",
    "Q_ = quat.array([[1.0, 0.0, 0.0, 0.0]] * (len(data) + 1))\n",
    "Q__ = quat.array([[1.0, 0.0, 0.0, 0.0]] * (len(data) + 1))\n",
    "Q2 = quat.array([[1.0, 0.0, 0.0, 0.0]] * (len(data) + 1))\n",
    "last_t = None\n",
    "\n",
    "for i, (qw, qx, qy, qz, ts, wx, wy, wz) in enumerate(data):\n",
    "    if last_t is not None:\n",
    "        dt = ts - last_t\n",
    "        Q[i+1] = propagate_attitude(Q[i], 60*np.array((wx, wy, wz)), dt/1e3)\n",
    "        Q2[i+1] = propagate_attitude(Q2[i], np.array((wx, wy, wz)), dt)\n",
    "        Q_[i+1] = [qw, qx, qy, qz]\n",
    "        Q__[i+1] = pyahrs.propagate_attitude(Q__[i,:], np.array((wx, wy, wz)), dt/1e3)\n",
    "        \n",
    "    last_t = ts"
   ]
  },
  {
   "cell_type": "code",
   "execution_count": 8,
   "id": "51c42b82-66ef-40e5-a29f-0c102f1ff7bf",
   "metadata": {},
   "outputs": [
    {
     "data": {
      "text/plain": [
       "[<matplotlib.lines.Line2D at 0x7fab31d01b80>]"
      ]
     },
     "execution_count": 8,
     "metadata": {},
     "output_type": "execute_result"
    }
   ],
   "source": [
    "%matplotlib qt\n",
    "\n",
    "t, wx, wy, wz, *_ = data[:,4:].T\n",
    "\n",
    "t -= t[0]\n",
    "t /= 1000\n",
    "\n",
    "a, b, c = np.rad2deg(Q.to_axis_angle).T\n",
    "plt.plot(t, a[1:], 'C0+-')\n",
    "plt.plot(t, b[1:], 'C1+-')\n",
    "plt.plot(t, c[1:], 'C2+-')\n"
   ]
  },
  {
   "cell_type": "code",
   "execution_count": 21,
   "id": "21c2f10a-8c8b-482b-9a95-8137b5785bf0",
   "metadata": {},
   "outputs": [
    {
     "data": {
      "text/plain": [
       "[<matplotlib.lines.Line2D at 0x7f7e448b4610>]"
      ]
     },
     "execution_count": 21,
     "metadata": {},
     "output_type": "execute_result"
    }
   ],
   "source": [
    "%matplotlib qt\n",
    "\n",
    "fig, axs = plt.subplots(3, 1, sharex=True)\n",
    "\n",
    "t, wx, wy, wz, *_ = data[:,4:].T\n",
    "\n",
    "a, b, c = np.rad2deg(Q.to_axis_angle).T\n",
    "plt.plot(t, a[1:], 'C0+-')\n",
    "plt.plot(t, b[1:], 'C1+-')\n",
    "#plt.plot(t, c[1:], 'C2+-')\n",
    "\n",
    "a, b, c = np.rad2deg(Q_.to_axis_angle).T\n",
    "plt.plot(t, a[1:], 'C1o--')\n",
    "plt.plot(t, b[1:], 'C1+--')\n",
    "plt.plot(t, c[1:], 'C2--')"
   ]
  },
  {
   "cell_type": "code",
   "execution_count": 21,
   "id": "5aac4e49-c5c1-4ca2-8d53-403558735778",
   "metadata": {},
   "outputs": [
    {
     "data": {
      "text/plain": [
       "[<matplotlib.lines.Line2D at 0x7fc284269430>]"
      ]
     },
     "execution_count": 21,
     "metadata": {},
     "output_type": "execute_result"
    }
   ],
   "source": [
    "%matplotlib qt\n",
    "\n",
    "fig, axs = plt.subplots(3, 1, sharex=True)\n",
    "\n",
    "t, wx, wy, wz, *_ = data[:,4:].T\n",
    "axs[0].plot(t, 50*wx, 'C0+--')\n",
    "axs[0].plot(t, 50*wy, 'C1+--')\n",
    "axs[0].plot(t, 50*wz, 'C2+--')\n",
    "\n",
    "a, b, c = np.rad2deg(Q.to_axis_angle).T\n",
    "axs[1].plot(t, a[1:], 'C0+-')\n",
    "axs[1].plot(t, b[1:], 'C1+-')\n",
    "axs[1].plot(t, c[1:], 'C2+-')\n",
    "\n",
    "a, b, c = np.rad2deg(Q_.to_axis_angle).T\n",
    "axs[2].plot(t, a[1:], 'C0+-')\n",
    "axs[2].plot(t, b[1:], 'C1+-')\n",
    "axs[2].plot(t, c[1:], 'C2+-')"
   ]
  },
  {
   "cell_type": "code",
   "execution_count": null,
   "id": "0a1c3006-acd2-4cfe-9b56-aec2cfa5c5fb",
   "metadata": {},
   "outputs": [],
   "source": []
  }
 ],
 "metadata": {
  "kernelspec": {
   "display_name": "Python 3 (ipykernel)",
   "language": "python",
   "name": "python3"
  },
  "language_info": {
   "codemirror_mode": {
    "name": "ipython",
    "version": 3
   },
   "file_extension": ".py",
   "mimetype": "text/x-python",
   "name": "python",
   "nbconvert_exporter": "python",
   "pygments_lexer": "ipython3",
   "version": "3.9.6"
  }
 },
 "nbformat": 4,
 "nbformat_minor": 5
}
